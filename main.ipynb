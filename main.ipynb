{
 "cells": [
  {
   "cell_type": "markdown",
   "id": "43642794-03a6-4f59-a68d-c61e35be92d3",
   "metadata": {},
   "source": [
    "# Model Building & Creating Needed Functions:"
   ]
  },
  {
   "cell_type": "code",
   "execution_count": 74,
   "id": "17fcea0e-0b0e-4175-a053-d18481004fa4",
   "metadata": {},
   "outputs": [],
   "source": [
    "import matplotlib.pyplot as plt\n",
    "import numpy as np\n",
    "import pandas as pd\n",
    "import seaborn as sns\n",
    "from sklearn.metrics import confusion_matrix"
   ]
  },
  {
   "cell_type": "code",
   "execution_count": 75,
   "id": "930572b4-dd6d-4aad-bec2-ffdde3334f91",
   "metadata": {},
   "outputs": [],
   "source": [
    "# Define manual train-test split function\n",
    "def train_test_split_custom(X, y, test_size=0.2, random_state=None):\n",
    "    np.random.seed(random_state)\n",
    "    indices = np.arange(X.shape[0])\n",
    "    np.random.shuffle(indices)\n",
    "    split_point = int(X.shape[0] * (1 - test_size))\n",
    "    X_train, X_test = X[indices[:split_point]], X[indices[split_point:]]\n",
    "    y_train, y_test = y[indices[:split_point]], y[indices[split_point:]]\n",
    "    return X_train, X_test, y_train, y_test"
   ]
  },
  {
   "cell_type": "code",
   "execution_count": 76,
   "id": "ced0d604-829b-495c-926c-88f47826d465",
   "metadata": {},
   "outputs": [],
   "source": [
    "# Define standardize function\n",
    "def standardize(X):\n",
    "    mean = np.mean(X, axis=0)\n",
    "    std = np.std(X, axis=0)\n",
    "    X_std = (X - mean) / std\n",
    "    return X_std, mean, std"
   ]
  },
  {
   "cell_type": "code",
   "execution_count": 77,
   "id": "a458a0a4-1c09-457b-8cfc-8ad9376ab50b",
   "metadata": {},
   "outputs": [],
   "source": [
    "# Hinge loss function\n",
    "def hinge_loss(w, b, X, y, reg=0.01):\n",
    "    margins = 1 - y * (np.dot(X, w) + b)\n",
    "    return np.mean(np.maximum(0, margins)) + reg * np.dot(w, w)\n",
    "\n",
    "\n",
    "# Logistic loss function\n",
    "def logistic_loss(w, b, X, y, reg=0.01):\n",
    "    scores = y * (np.dot(X, w) + b)\n",
    "    return np.mean(np.log(1 + np.exp(-scores))) + reg * np.dot(w, w)\n",
    "\n",
    "\n",
    "# Logistic loss gradient\n",
    "def logistic_gradient(w, b, X, y, reg=0.01):\n",
    "    n_samples = X.shape[0]\n",
    "    scores = y * (np.dot(X, w) + b)\n",
    "    probs = 1 / (1 + np.exp(scores))  # sigmoid(-scores)\n",
    "    dw = -np.dot((probs * y), X) / n_samples + 2 * reg * w\n",
    "    db = -np.mean(probs * y)\n",
    "    return dw, db"
   ]
  },
  {
   "cell_type": "code",
   "execution_count": 78,
   "id": "5e168940-6b89-45c4-bd21-3d5fcdd47bdd",
   "metadata": {},
   "outputs": [],
   "source": [
    "def train_svm(\n",
    "    X, y, X_val, y_val, method=\"gradient\", lr=0.01, epochs=1000, reg=0.01, tol=1e-4):\n",
    "    \"\"\"\n",
    "    Train a linear SVM (hinge or logistic) with early stopping based on loss convergence.\n",
    "\n",
    "    Parameters:\n",
    "    - X, y: training data and labels\n",
    "    - X_val, y_val: validation data and labels\n",
    "    - method: 'gradient' (logistic gradient descent) or 'subgradient' (hinge subgradient descent)\n",
    "    - lr: learning rate\n",
    "    - epochs: maximum number of epochs\n",
    "    - reg: L2 regularization strength\n",
    "    - tol: tolerance threshold for early stopping (difference in training loss)\n",
    "\n",
    "    Returns:\n",
    "    - w, b: learned weights and bias\n",
    "    - loss_hist, acc_hist: training loss and accuracy history\n",
    "    - val_loss_hist, val_acc_hist: validation loss and accuracy history\n",
    "    \"\"\"\n",
    "    n_features = X.shape[1]\n",
    "    w = np.zeros(n_features)\n",
    "    b = 0\n",
    "    loss_hist, acc_hist = [], []\n",
    "    val_loss_hist, val_acc_hist = [], []\n",
    "\n",
    "    for epoch in range(epochs):\n",
    "        # Compute gradient and losses\n",
    "        if method == \"gradient\":\n",
    "            dw, db = logistic_gradient(w, b, X, y, reg)\n",
    "            train_loss = logistic_loss(w, b, X, y, reg)\n",
    "            val_loss = logistic_loss(w, b, X_val, y_val, reg)\n",
    "        elif method == \"subgradient\":\n",
    "            margins = 1 - y * (X.dot(w) + b)\n",
    "            mask = margins > 0\n",
    "            grad_contrib = (-y[:, None] * X) * mask[:, None]\n",
    "            dw = np.mean(grad_contrib, axis=0) + 2 * reg * w\n",
    "            db = np.mean(-y * mask)\n",
    "            train_loss = hinge_loss(w, b, X, y, reg)\n",
    "            val_loss = hinge_loss(w, b, X_val, y_val, reg)\n",
    "        else:\n",
    "            raise ValueError(\"Unknown method\")\n",
    "\n",
    "        # Update parameters\n",
    "        w -= lr * dw\n",
    "        b -= lr * db\n",
    "\n",
    "        # Record metrics\n",
    "        loss_hist.append(train_loss)\n",
    "        acc = np.mean(np.sign(X.dot(w) + b) == y)\n",
    "        acc_hist.append(acc)\n",
    "        val_loss_hist.append(val_loss)\n",
    "        val_acc = np.mean(np.sign(X_val.dot(w) + b) == y_val)\n",
    "        val_acc_hist.append(val_acc)\n",
    "\n",
    "        # Early stopping: check loss convergence\n",
    "        if epoch > 0 and abs(val_loss_hist[-1] - val_loss_hist[-2]) <= tol:\n",
    "            break\n",
    "\n",
    "    return w, b, loss_hist, acc_hist, val_loss_hist, val_acc_hist"
   ]
  },
  {
   "cell_type": "code",
   "execution_count": 79,
   "id": "e3e96e0f-310d-44c2-97c4-d11f22db37b6",
   "metadata": {},
   "outputs": [],
   "source": [
    "def plot_confusion(y_true, y_pred, title, fig_rows, fig_columns, index):\n",
    "    cm = confusion_matrix(y_true, y_pred, labels=[1, -1])\n",
    "    plt.subplot(fig_rows, fig_columns, index)\n",
    "    sns.heatmap(\n",
    "        cm,\n",
    "        annot=True,\n",
    "        fmt=\"d\",\n",
    "        cmap=\"Blues\",\n",
    "        xticklabels=[\"Positive\", \"Negative\"],\n",
    "        yticklabels=[\"Positive\", \"Negative\"],\n",
    "    )\n",
    "    plt.title(title)\n",
    "    plt.xlabel(\"Predicted\")\n",
    "    plt.ylabel(\"Actual\")"
   ]
  },
  {
   "cell_type": "markdown",
   "id": "8a5f5f2d-f7e2-447c-a3bf-284ef88757a2",
   "metadata": {},
   "source": [
    "# Data Preparation:"
   ]
  },
  {
   "cell_type": "code",
   "execution_count": 80,
   "id": "3d420a83-3e53-4312-9650-13b98de24c04",
   "metadata": {},
   "outputs": [
    {
     "data": {
      "text/html": [
       "<div>\n",
       "<style scoped>\n",
       "    .dataframe tbody tr th:only-of-type {\n",
       "        vertical-align: middle;\n",
       "    }\n",
       "\n",
       "    .dataframe tbody tr th {\n",
       "        vertical-align: top;\n",
       "    }\n",
       "\n",
       "    .dataframe thead th {\n",
       "        text-align: right;\n",
       "    }\n",
       "</style>\n",
       "<table border=\"1\" class=\"dataframe\">\n",
       "  <thead>\n",
       "    <tr style=\"text-align: right;\">\n",
       "      <th></th>\n",
       "      <th>variance</th>\n",
       "      <th>skewness</th>\n",
       "      <th>curtosis</th>\n",
       "      <th>entropy</th>\n",
       "      <th>class</th>\n",
       "    </tr>\n",
       "  </thead>\n",
       "  <tbody>\n",
       "    <tr>\n",
       "      <th>0</th>\n",
       "      <td>3.62160</td>\n",
       "      <td>8.6661</td>\n",
       "      <td>-2.8073</td>\n",
       "      <td>-0.44699</td>\n",
       "      <td>0</td>\n",
       "    </tr>\n",
       "    <tr>\n",
       "      <th>1</th>\n",
       "      <td>4.54590</td>\n",
       "      <td>8.1674</td>\n",
       "      <td>-2.4586</td>\n",
       "      <td>-1.46210</td>\n",
       "      <td>0</td>\n",
       "    </tr>\n",
       "    <tr>\n",
       "      <th>2</th>\n",
       "      <td>3.86600</td>\n",
       "      <td>-2.6383</td>\n",
       "      <td>1.9242</td>\n",
       "      <td>0.10645</td>\n",
       "      <td>0</td>\n",
       "    </tr>\n",
       "    <tr>\n",
       "      <th>3</th>\n",
       "      <td>3.45660</td>\n",
       "      <td>9.5228</td>\n",
       "      <td>-4.0112</td>\n",
       "      <td>-3.59440</td>\n",
       "      <td>0</td>\n",
       "    </tr>\n",
       "    <tr>\n",
       "      <th>4</th>\n",
       "      <td>0.32924</td>\n",
       "      <td>-4.4552</td>\n",
       "      <td>4.5718</td>\n",
       "      <td>-0.98880</td>\n",
       "      <td>0</td>\n",
       "    </tr>\n",
       "  </tbody>\n",
       "</table>\n",
       "</div>"
      ],
      "text/plain": [
       "   variance   skewness   curtosis   entropy   class\n",
       "0   3.62160     8.6661    -2.8073  -0.44699       0\n",
       "1   4.54590     8.1674    -2.4586  -1.46210       0\n",
       "2   3.86600    -2.6383     1.9242   0.10645       0\n",
       "3   3.45660     9.5228    -4.0112  -3.59440       0\n",
       "4   0.32924    -4.4552     4.5718  -0.98880       0"
      ]
     },
     "execution_count": 80,
     "metadata": {},
     "output_type": "execute_result"
    }
   ],
   "source": [
    "# Read CSV\n",
    "data = pd.read_csv('data_banknote_authentication.txt')\n",
    "data.head()"
   ]
  },
  {
   "cell_type": "code",
   "execution_count": 81,
   "id": "1d293163-1185-40c6-96b5-6a9171256491",
   "metadata": {},
   "outputs": [
    {
     "data": {
      "text/plain": [
       "variance     0\n",
       " skewness    0\n",
       " curtosis    0\n",
       " entropy     0\n",
       " class       0\n",
       "dtype: int64"
      ]
     },
     "execution_count": 81,
     "metadata": {},
     "output_type": "execute_result"
    }
   ],
   "source": [
    "data.isna().sum()"
   ]
  },
  {
   "cell_type": "code",
   "execution_count": 82,
   "id": "9ce77971-0420-4dc0-80de-95bb945dec9d",
   "metadata": {},
   "outputs": [
    {
     "data": {
      "text/plain": [
       "np.int64(24)"
      ]
     },
     "execution_count": 82,
     "metadata": {},
     "output_type": "execute_result"
    }
   ],
   "source": [
    "data.duplicated().sum()"
   ]
  },
  {
   "cell_type": "code",
   "execution_count": 83,
   "id": "7992e718-14ca-4950-a6fb-bf6d8c2d8b8c",
   "metadata": {},
   "outputs": [],
   "source": [
    "data.drop_duplicates(inplace=True)"
   ]
  },
  {
   "cell_type": "code",
   "execution_count": 84,
   "id": "595a6178-729d-4787-b2dc-211f58286e7a",
   "metadata": {},
   "outputs": [
    {
     "data": {
      "text/html": [
       "<div>\n",
       "<style scoped>\n",
       "    .dataframe tbody tr th:only-of-type {\n",
       "        vertical-align: middle;\n",
       "    }\n",
       "\n",
       "    .dataframe tbody tr th {\n",
       "        vertical-align: top;\n",
       "    }\n",
       "\n",
       "    .dataframe thead th {\n",
       "        text-align: right;\n",
       "    }\n",
       "</style>\n",
       "<table border=\"1\" class=\"dataframe\">\n",
       "  <thead>\n",
       "    <tr style=\"text-align: right;\">\n",
       "      <th></th>\n",
       "      <th>variance</th>\n",
       "      <th>skewness</th>\n",
       "      <th>curtosis</th>\n",
       "      <th>entropy</th>\n",
       "      <th>class</th>\n",
       "    </tr>\n",
       "  </thead>\n",
       "  <tbody>\n",
       "    <tr>\n",
       "      <th>count</th>\n",
       "      <td>1348.000000</td>\n",
       "      <td>1348.000000</td>\n",
       "      <td>1348.000000</td>\n",
       "      <td>1348.000000</td>\n",
       "      <td>1348.000000</td>\n",
       "    </tr>\n",
       "    <tr>\n",
       "      <th>mean</th>\n",
       "      <td>0.445785</td>\n",
       "      <td>1.909039</td>\n",
       "      <td>1.413578</td>\n",
       "      <td>-1.168712</td>\n",
       "      <td>0.452522</td>\n",
       "    </tr>\n",
       "    <tr>\n",
       "      <th>std</th>\n",
       "      <td>2.862906</td>\n",
       "      <td>5.868600</td>\n",
       "      <td>4.328365</td>\n",
       "      <td>2.085877</td>\n",
       "      <td>0.497925</td>\n",
       "    </tr>\n",
       "    <tr>\n",
       "      <th>min</th>\n",
       "      <td>-7.042100</td>\n",
       "      <td>-13.773100</td>\n",
       "      <td>-5.286100</td>\n",
       "      <td>-8.548200</td>\n",
       "      <td>0.000000</td>\n",
       "    </tr>\n",
       "    <tr>\n",
       "      <th>25%</th>\n",
       "      <td>-1.786650</td>\n",
       "      <td>-1.627000</td>\n",
       "      <td>-1.545600</td>\n",
       "      <td>-2.393100</td>\n",
       "      <td>0.000000</td>\n",
       "    </tr>\n",
       "    <tr>\n",
       "      <th>50%</th>\n",
       "      <td>0.518735</td>\n",
       "      <td>2.334150</td>\n",
       "      <td>0.605495</td>\n",
       "      <td>-0.578890</td>\n",
       "      <td>0.000000</td>\n",
       "    </tr>\n",
       "    <tr>\n",
       "      <th>75%</th>\n",
       "      <td>2.853250</td>\n",
       "      <td>6.796025</td>\n",
       "      <td>3.199800</td>\n",
       "      <td>0.403863</td>\n",
       "      <td>1.000000</td>\n",
       "    </tr>\n",
       "    <tr>\n",
       "      <th>max</th>\n",
       "      <td>6.824800</td>\n",
       "      <td>12.951600</td>\n",
       "      <td>17.927400</td>\n",
       "      <td>2.449500</td>\n",
       "      <td>1.000000</td>\n",
       "    </tr>\n",
       "  </tbody>\n",
       "</table>\n",
       "</div>"
      ],
      "text/plain": [
       "          variance     skewness     curtosis      entropy        class\n",
       "count  1348.000000  1348.000000  1348.000000  1348.000000  1348.000000\n",
       "mean      0.445785     1.909039     1.413578    -1.168712     0.452522\n",
       "std       2.862906     5.868600     4.328365     2.085877     0.497925\n",
       "min      -7.042100   -13.773100    -5.286100    -8.548200     0.000000\n",
       "25%      -1.786650    -1.627000    -1.545600    -2.393100     0.000000\n",
       "50%       0.518735     2.334150     0.605495    -0.578890     0.000000\n",
       "75%       2.853250     6.796025     3.199800     0.403863     1.000000\n",
       "max       6.824800    12.951600    17.927400     2.449500     1.000000"
      ]
     },
     "execution_count": 84,
     "metadata": {},
     "output_type": "execute_result"
    }
   ],
   "source": [
    "data.describe()"
   ]
  },
  {
   "cell_type": "code",
   "execution_count": 85,
   "id": "5fcbe57d-33cf-491f-aa6d-920c04eeee92",
   "metadata": {},
   "outputs": [
    {
     "name": "stdout",
     "output_type": "stream",
     "text": [
      "<class 'pandas.core.frame.DataFrame'>\n",
      "Index: 1348 entries, 0 to 1371\n",
      "Data columns (total 5 columns):\n",
      " #   Column     Non-Null Count  Dtype  \n",
      "---  ------     --------------  -----  \n",
      " 0   variance   1348 non-null   float64\n",
      " 1    skewness  1348 non-null   float64\n",
      " 2    curtosis  1348 non-null   float64\n",
      " 3    entropy   1348 non-null   float64\n",
      " 4    class     1348 non-null   int64  \n",
      "dtypes: float64(4), int64(1)\n",
      "memory usage: 63.2 KB\n"
     ]
    }
   ],
   "source": [
    "data.info()"
   ]
  },
  {
   "cell_type": "code",
   "execution_count": 86,
   "id": "ff1554d8-b9fc-4058-93dd-c8a4bef81158",
   "metadata": {},
   "outputs": [],
   "source": [
    "# Manual split: train (60%), validation (20%), test (20%)\n",
    "X_train_val, X_test, y_train_val, y_test = train_test_split_custom(X, y, test_size=0.2, random_state=42)\n",
    "X_train, X_val, y_train, y_val = train_test_split_custom(X_train_val, y_train_val, test_size=0.25, random_state=42)\n",
    "\n",
    "# Standardize manually\n",
    "X_train, mean, std = standardize(X_train)\n",
    "X_val = (X_val - mean) / std\n",
    "X_test = (X_test - mean) / std"
   ]
  },
  {
   "cell_type": "markdown",
   "id": "e5cf0d08-019c-460f-8ffa-ee65e01dbb5d",
   "metadata": {},
   "source": [
    "# Model Training:"
   ]
  },
  {
   "cell_type": "code",
   "execution_count": 87,
   "id": "933dd487-78a2-4f3c-907b-f67812a48de7",
   "metadata": {},
   "outputs": [],
   "source": [
    "# Train using both methods\n",
    "w_grad, b_grad, loss_grad, acc_grad, val_loss_grad, val_acc_grad = train_svm(X_train, y_train, X_val, y_val, method=\"gradient\")\n",
    "w_sub, b_sub, loss_sub, acc_sub, val_loss_sub, val_acc_sub = train_svm(X_train, y_train, X_val, y_val, method=\"subgradient\")\n",
    "\n",
    "# Test accuracy\n",
    "test_pred_grad = np.sign(np.dot(X_test, w_grad) + b_grad)\n",
    "test_pred_sub = np.sign(np.dot(X_test, w_sub) + b_sub)\n",
    "test_acc_grad = np.mean(test_pred_grad == y_test)\n",
    "test_acc_sub = np.mean(test_pred_sub == y_test)"
   ]
  },
  {
   "cell_type": "markdown",
   "id": "0a7d93b4-63cc-495b-a590-9b4b03bc2f3c",
   "metadata": {},
   "source": [
    "# Visualization"
   ]
  },
  {
   "cell_type": "code",
   "execution_count": 88,
   "id": "476e7c20-69bc-41b9-99c7-62acd4877d1b",
   "metadata": {},
   "outputs": [
    {
     "data": {
      "image/png": "[encoded data removed]",
      "text/plain": [
       "<Figure size 1200x500 with 2 Axes>"
      ]
     },
     "metadata": {},
     "output_type": "display_data"
    }
   ],
   "source": [
    "# Plot Loss Curve\n",
    "plt.figure(figsize=(12, 5))\n",
    "plt.subplot(1, 2, 1)\n",
    "plt.plot(\n",
    "    val_loss_grad,\n",
    "    label=\"Gradient Descent\",\n",
    "    linestyle=\"-\",\n",
    "    color=\"blue\",\n",
    "    marker=\"o\",\n",
    "    markersize=3,\n",
    ")\n",
    "plt.plot(\n",
    "    val_loss_sub,\n",
    "    label=\"Subgradient Descent\",\n",
    "    linestyle=\"--\",\n",
    "    color=\"red\",\n",
    "    marker=\"x\",\n",
    "    markersize=3,\n",
    ")\n",
    "plt.title(\"Validation Loss Curve\")\n",
    "plt.xlabel(\"Epoch\")\n",
    "plt.ylabel(\"Hinge Loss\")\n",
    "plt.legend()\n",
    "plt.grid(True)\n",
    "\n",
    "# Plot Accuracy Curve\n",
    "plt.subplot(1, 2, 2)\n",
    "plt.plot(\n",
    "    val_acc_grad,\n",
    "    label=\"Gradient Descent\",\n",
    "    linestyle=\"-\",\n",
    "    color=\"blue\",\n",
    "    marker=\"o\",\n",
    "    markersize=3,\n",
    ")\n",
    "plt.plot(\n",
    "    val_acc_sub,\n",
    "    label=\"Subgradient Descent\",\n",
    "    linestyle=\"--\",\n",
    "    color=\"red\",\n",
    "    marker=\"x\",\n",
    "    markersize=3,\n",
    ")\n",
    "plt.title(\"Validation Accuracy Curve\")\n",
    "plt.xlabel(\"Epoch\")\n",
    "plt.ylabel(\"Accuracy\")\n",
    "plt.legend()\n",
    "plt.grid(True)\n",
    "\n",
    "plt.tight_layout()\n",
    "plt.show()"
   ]
  },
  {
   "cell_type": "code",
   "execution_count": 89,
   "id": "86f79d47-d1ac-46e9-91a0-c684d8c14565",
   "metadata": {},
   "outputs": [
    {
     "data": {
      "image/png": "[encoded data removed]",
      "text/plain": [
       "<Figure size 1200x500 with 4 Axes>"
      ]
     },
     "metadata": {},
     "output_type": "display_data"
    }
   ],
   "source": [
    "plt.figure(figsize=(12, 5))\n",
    "plot_confusion(y_test, test_pred_grad, \"Confusion Matrix (Gradient Descent)\", 1, 2, 1)\n",
    "plot_confusion(y_test, test_pred_sub, \"Confusion Matrix (Subgradient Descent)\", 1, 2, 2)\n",
    "plt.tight_layout()\n",
    "plt.show()"
   ]
  },
  {
   "cell_type": "markdown",
   "id": "b2fbb5e8-b427-44ef-903f-a813f0761299",
   "metadata": {},
   "source": [
    "# Analysis"
   ]
  },
  {
   "cell_type": "markdown",
   "id": "ce685bff-fa26-4526-8c80-f4afb84bfa15",
   "metadata": {},
   "source": [
    "## **1) ✅ Accuracy & Final Losses:**"
   ]
  },
  {
   "cell_type": "code",
   "execution_count": 90,
   "id": "6dfbb13c-4d8c-458d-b1f1-92f98f0e9770",
   "metadata": {},
   "outputs": [
    {
     "data": {
      "text/plain": [
       "{'Gradient Descent Test Accuracy': 92.73,\n",
       " 'Subgradient Descent Test Accuracy': 97.82,\n",
       " 'Gradient Descent Final Loss': 0.336,\n",
       " 'Subgradient Descent Final Loss': 0.17}"
      ]
     },
     "execution_count": 90,
     "metadata": {},
     "output_type": "execute_result"
    }
   ],
   "source": [
    "# Print comparison metrics\n",
    "{\n",
    "    \"Gradient Descent Test Accuracy\": float(round(test_acc_grad*100, 2)),\n",
    "    \"Subgradient Descent Test Accuracy\": float(round(test_acc_sub*100, 2)),\n",
    "    \"Gradient Descent Final Loss\": float(round(loss_grad[-1], 3)),\n",
    "    \"Subgradient Descent Final Loss\": float(round(loss_sub[-1], 3))\n",
    "}"
   ]
  },
  {
   "cell_type": "markdown",
   "id": "8891ed23-ed18-4e77-8c83-32d07487dd73",
   "metadata": {},
   "source": [
    "# **_____________________________________________________________________________** "
   ]
  },
  {
   "cell_type": "markdown",
   "id": "d5b80acf-5132-4d37-8c10-0b4b01863ab8",
   "metadata": {},
   "source": [
    "## **2) ⚡ Convergence Speed:**\n",
    "### The number of epochs each method takes indicates that the fewer epochs the higher convergence.\n",
    "### **Result:** Gradient descent converges faster, likely due to smoother loss optimization."
   ]
  },
  {
   "cell_type": "code",
   "execution_count": 91,
   "id": "0a7ad1e5-63c9-4960-a577-6cf536052ab0",
   "metadata": {},
   "outputs": [
    {
     "data": {
      "text/plain": [
       "(845, 597)"
      ]
     },
     "execution_count": 91,
     "metadata": {},
     "output_type": "execute_result"
    }
   ],
   "source": [
    "len(val_loss_grad), len(val_loss_sub)"
   ]
  },
  {
   "cell_type": "markdown",
   "id": "d9b8b9ce-73f2-4607-be69-57c9ea3b5d7f",
   "metadata": {},
   "source": [
    "# **_____________________________________________________________________________** "
   ]
  },
  {
   "cell_type": "markdown",
   "id": "8ddd52be-660b-4189-86b7-bca2902e50dc",
   "metadata": {},
   "source": [
    "## **3) 📉 Stability of the Loss Function:**\n",
    "- After looking at the loss curve for both ```Gradiant``` and ```Sub-Gradiant``` we found out that:\n",
    "    * 1) The ```Gradient``` loss curve have a smoother descent because of the differentiability of the logistic loss.\n",
    "      2) The ```Sub-Gradiant``` loss curve have jumps or plateaus due to the piecewise nature of the hinge loss."
   ]
  },
  {
   "cell_type": "markdown",
   "id": "64289eab-0ec6-47b4-a51f-2118fa08a27b",
   "metadata": {},
   "source": [
    "# **_____________________________________________________________________________** "
   ]
  },
  {
   "cell_type": "markdown",
   "id": "7923a408-7360-41fe-8cb6-7f3593da56e0",
   "metadata": {},
   "source": [
    "## **4) 🧠 Generalization on Test Data:**\n",
    "- After evaluating both models on the test set using accuracy, precision, recall, and the confusion matrix:\n",
    "    * 1) Both ```Gradient``` and ```Sub-Gradient``` methods achieved high precision and recall, indicating strong performance on unseen data.\n",
    "      2) The ```Sub-Gradient``` method slightly outperformed in both precision (0.98) and recall (0.97), suggesting better handling of both false positives and false negatives.\n",
    "      3) The consistency between validation and test performance shows that both models generalize well without signs of overfitting."
   ]
  },
  {
   "cell_type": "code",
   "execution_count": 92,
   "id": "a188eee3-0948-4d42-aa3c-8709d922fe78",
   "metadata": {},
   "outputs": [
    {
     "name": "stdout",
     "output_type": "stream",
     "text": [
      "Gradient Descent - Precision: 0.94, Recall: 0.91\n",
      "Subgradient Descent - Precision: 0.98, Recall: 0.97\n"
     ]
    }
   ],
   "source": [
    "# Confusion matrices for both methods\n",
    "cm_grad = confusion_matrix(y_test, test_pred_grad, labels=[1, -1])\n",
    "cm_sub = confusion_matrix(y_test, test_pred_sub, labels=[1, -1])\n",
    "\n",
    "# Extract values from the confusion matrix for Gradient Descent\n",
    "TP_grad = cm_grad[0, 0]  # True Positive (Gradient Descent)\n",
    "TN_grad = cm_grad[1, 1]  # True Negative (Gradient Descent)\n",
    "FP_grad = cm_grad[0, 1]  # False Positive (Gradient Descent)\n",
    "FN_grad = cm_grad[1, 0]  # False Negative (Gradient Descent)\n",
    "\n",
    "# Extract values from the confusion matrix for Subgradient Descent\n",
    "TP_sub = cm_sub[0, 0]  # True Positive (Subgradient Descent)\n",
    "TN_sub = cm_sub[1, 1]  # True Negative (Subgradient Descent)\n",
    "FP_sub = cm_sub[0, 1]  # False Positive (Subgradient Descent)\n",
    "FN_sub = cm_sub[1, 0]  # False Negative (Subgradient Descent)\n",
    "\n",
    "# Compute Precision and Recall for Gradient Descent\n",
    "precision_grad = TP_grad / (TP_grad + FP_grad) if (TP_grad + FP_grad) != 0 else 0\n",
    "recall_grad = TP_grad / (TP_grad + FN_grad) if (TP_grad + FN_grad) != 0 else 0\n",
    "\n",
    "# Compute Precision and Recall for Subgradient Descent\n",
    "precision_sub = TP_sub / (TP_sub + FP_sub) if (TP_sub + FP_sub) != 0 else 0\n",
    "recall_sub = TP_sub / (TP_sub + FN_sub) if (TP_sub + FN_sub) != 0 else 0\n",
    "\n",
    "# Print the results\n",
    "print(f\"Gradient Descent - Precision: {precision_grad:.2f}, Recall: {recall_grad:.2f}\")\n",
    "print(f\"Subgradient Descent - Precision: {precision_sub:.2f}, Recall: {recall_sub:.2f}\")\n"
   ]
  },
  {
   "cell_type": "markdown",
   "id": "23ee04cf-64ec-4197-b51d-1578401f745f",
   "metadata": {
    "jupyter": {
     "source_hidden": true
    }
   },
   "source": [
    "🧠 Generalization on Test Data:\n",
    "\n",
    "    Test Accuracy Comparison:\n",
    "\n",
    "        Both Gradient Descent and Subgradient Descent show strong performance on the test data.\n",
    "\n",
    "        Gradient Descent: Precision = 0.94, Recall = 0.91\n",
    "\n",
    "        Subgradient Descent: Precision = 0.98, Recall = 0.97\n",
    "\n",
    "    Interpretation: Both methods demonstrate high precision and recall, meaning that both models are correctly classifying most of the positive and negative instances.\n",
    "\n",
    "    Balanced Classification:\n",
    "\n",
    "        Both models seem to perform well on both classes (positive and negative).\n",
    "\n",
    "        Subgradient Descent shows slightly higher precision and recall, suggesting it may have a marginally better ability to correctly identify the positive class while minimizing false positives and false negatives.\n",
    "\n",
    "    Generalization:\n",
    "\n",
    "        Since both models show high precision (indicating fewer false positives) and high recall (indicating fewer false negatives), we can conclude that both models generalize well to the test data.\n",
    "\n",
    "        Gradient Descent might have a small trade-off between precision and recall compared to Subgradient Descent, but both methods show excellent performance.\n",
    "\n",
    "Final Analysis:\n",
    "\n",
    "    Subgradient Descent has a slight edge in precision and recall, but Gradient Descent still demonstrates a robust generalization ability with only a small performance gap.\n",
    "\n",
    "    The models appear to overfit very little to the training data, as their performance on the test data is strong and consistent with validation results.\n",
    "\n",
    "This analysis concludes that both methods generalize well to unseen data, but Subgradient Descent appears to have slightly better overall performance. Would you like further insights or a detailed breakdown of any specific metric?\n"
   ]
  },
  {
   "cell_type": "code",
   "execution_count": null,
   "id": "18b43380-e3bc-403a-9db6-29548e307e4a",
   "metadata": {},
   "outputs": [],
   "source": []
  }
 ],
 "metadata": {
  "kernelspec": {
   "display_name": "python_env",
   "language": "python",
   "name": "python_env"
  },
  "language_info": {
   "codemirror_mode": {
    "name": "ipython",
    "version": 3
   },
   "file_extension": ".py",
   "mimetype": "text/x-python",
   "name": "python",
   "nbconvert_exporter": "python",
   "pygments_lexer": "ipython3",
   "version": "3.13.2"
  }
 },
 "nbformat": 4,
 "nbformat_minor": 5
}
